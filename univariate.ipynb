{
 "cells": [
  {
   "cell_type": "markdown",
   "metadata": {},
   "source": [
    "This notebook illustrates the process to create task-embedded training sets across a set of tasks.  For this notebook a task is predicting the y values for a given equation and set of x values.  In addition, a model is trained on these tasks.  Finally, the model is asked to infer y-values for tasks it has been taught and a task it has not been taught."
   ]
  },
  {
   "cell_type": "code",
   "execution_count": 1,
   "metadata": {},
   "outputs": [],
   "source": [
    "import torch\n",
    "import torch.nn as nn\n",
    "import torch.nn.functional as F\n",
    "import torch.optim as optim\n",
    "import matplotlib.pyplot as plt\n",
    "import numpy as np\n",
    "import random\n",
    "from torch.utils.data import Dataset"
   ]
  },
  {
   "cell_type": "markdown",
   "metadata": {},
   "source": [
    "A simple fully connected network is used for training."
   ]
  },
  {
   "cell_type": "code",
   "execution_count": 2,
   "metadata": {},
   "outputs": [],
   "source": [
    "class Net(nn.Module):\n",
    "    def __init__(self, hidden_one):\n",
    "        super(Net, self).__init__()\n",
    "        input_size = 10\n",
    "        self.hidden_one = hidden_one\n",
    "        output_size = 1\n",
    "\n",
    "        self.fc1 = nn.Linear(input_size, hidden_one)\n",
    "        self.fc2 = nn.Linear(hidden_one, output_size)\n",
    "\n",
    "    def forward(self, x):\n",
    "        x = self.fc1(x)\n",
    "        x = F.relu(x)\n",
    "        x = self.fc2(x)\n",
    "        return x"
   ]
  },
  {
   "cell_type": "markdown",
   "metadata": {},
   "source": [
    "A custom Dataset is used to perform a transformation on the data."
   ]
  },
  {
   "cell_type": "code",
   "execution_count": 3,
   "metadata": {},
   "outputs": [],
   "source": [
    "class shared_task_ds(Dataset):\n",
    "  def __init__(self, data, targets):\n",
    "      self.data = data\n",
    "      self.targets = targets\n",
    "\n",
    "  def __len__(self):\n",
    "    return len(self.data)\n",
    "\n",
    "  def __getitem__(self, idx):\n",
    "    return (self.data[idx].unsqueeze(0),self.targets[idx])"
   ]
  },
  {
   "cell_type": "markdown",
   "metadata": {},
   "source": [
    "The model is trained in batches using a mean squared error loss function."
   ]
  },
  {
   "cell_type": "code",
   "execution_count": 4,
   "metadata": {},
   "outputs": [],
   "source": [
    "def train(model, device, train_loader, optimizer, epoch, losses):\n",
    "    model.train()\n",
    "    \n",
    "    for batch_idx, (data, target) in enumerate(train_loader):\n",
    "        data, target = data.to(device), target.to(device) # shape [batch,1,9] [[[ 0, 0, ...]]]; shape [batch,1,1] [[[0,0,...]]]\n",
    "        optimizer.zero_grad()\n",
    "        output = model(data) # shape [batch,1,1]\n",
    "        criteria = nn.MSELoss()\n",
    "        loss = criteria(output, target)\n",
    "        loss.backward()\n",
    "        optimizer.step()\n",
    "        losses.append(loss.item())"
   ]
  },
  {
   "cell_type": "markdown",
   "metadata": {},
   "source": [
    "The function below generates random equations.  A couple equations are forced to be in the set and a one is forced to be left out of the set."
   ]
  },
  {
   "cell_type": "code",
   "execution_count": 5,
   "metadata": {},
   "outputs": [],
   "source": [
    "def generate_equation_list(equation_count):\n",
    "    \n",
    "    equation_string_encoding_list = []\n",
    "    \n",
    "    # Adding known sets\n",
    "    equation = '-8*(x+1)*(x-4)+9'\n",
    "    algo_encoding = [1, 8, 1, 2, 1, 1, 4, 2, 9, -1]\n",
    "    equation_string_encoding_list.append([equation, algo_encoding])\n",
    "\n",
    "    equation = '+5*(x-4)+9'\n",
    "    algo_encoding = [2, 5, 2, 0, 0, 1, 4, 2, 9, -1]\n",
    "    equation_string_encoding_list.append([equation, algo_encoding])\n",
    "\n",
    "    # Preventing a test equation\n",
    "    equation_avoid = '+6*(x+9)*(x+5)-3'\n",
    "\n",
    "    for count in range(equation_count):\n",
    "\n",
    "        equation = ''\n",
    "        algo_encoding = []\n",
    "\n",
    "        if random.randint(1,2) == 1:\n",
    "            algo_encoding.append(1)\n",
    "            equation = '-' + equation\n",
    "        else:\n",
    "            algo_encoding.append(2)\n",
    "            equation = '+' + equation\n",
    "\n",
    "        r = random.randint(1,9)\n",
    "        algo_encoding.append(r)\n",
    "        equation = equation + str(r)\n",
    "\n",
    "        if random.randint(1,2) == 1:\n",
    "            algo_encoding.append(1)\n",
    "            equation = equation + '*(x' \n",
    "            if random.randint(1,2) == 1:\n",
    "                algo_encoding.append(1)\n",
    "                equation = equation + '-'\n",
    "            else:\n",
    "                algo_encoding.append(2)\n",
    "                equation = equation + '+'\n",
    "            r = random.randint(1,9)\n",
    "            algo_encoding.append(r)\n",
    "            equation = equation + str(r) + ')'\n",
    "        else:\n",
    "            algo_encoding.append(2)\n",
    "            algo_encoding.append(0)\n",
    "            algo_encoding.append(0)\n",
    "\n",
    "        equation = equation + '*(x' \n",
    "        if random.randint(1,2) == 1:\n",
    "            algo_encoding.append(1)\n",
    "            equation = equation + '-'\n",
    "        else:\n",
    "            algo_encoding.append(2)\n",
    "            equation = equation + '+'\n",
    "        r = random.randint(1,9)\n",
    "        algo_encoding.append(r)\n",
    "        equation = equation + str(r) + ')'\n",
    "\n",
    "        if random.randint(1,2) == 1:\n",
    "            algo_encoding.append(1)\n",
    "            equation = equation + '-'\n",
    "        else:\n",
    "            algo_encoding.append(2)\n",
    "            equation = equation + '+'\n",
    "        \n",
    "        r = random.randint(1,9)\n",
    "        algo_encoding.append(r)\n",
    "        equation = equation + str(r)\n",
    "\n",
    "        length = len(equation)\n",
    "\n",
    "        for count in range(16 - length):\n",
    "            equation = equation + ' '\n",
    "\n",
    "        # Placeholder for the x value\n",
    "        algo_encoding.append(-1)\n",
    "\n",
    "        if equation != equation_avoid:\n",
    "            equation_string_encoding_list.append([equation,algo_encoding])\n",
    "\n",
    "    return equation_string_encoding_list"
   ]
  },
  {
   "cell_type": "markdown",
   "metadata": {},
   "source": [
    "For each of the encoded equations created above, a set of x and y points are generated.  The x-value is appended to the equation encoding.  The result is a set of (x-embedded, y) that spans a range of x values and a set of equations.  This set is used for training and test."
   ]
  },
  {
   "cell_type": "code",
   "execution_count": 6,
   "metadata": {},
   "outputs": [],
   "source": [
    "def build_set(equation_string_encoding_list, set_eq_x, set_y, size):\n",
    "    \n",
    "    for equation in equation_string_encoding_list:\n",
    "        equation_string = equation[0]\n",
    "        equation_encoding = equation[1]\n",
    "        equation_encoded_numpy = np.array(equation_encoding)\n",
    "        for count in range(size):\n",
    "            embedded_equation_new = np.copy(equation_encoded_numpy)\n",
    "            x = random.random() * 20 - 10 # gives an x-value between -10 and 10\n",
    "            y = eval(equation_string)\n",
    "            embedded_equation_new[9] = x\n",
    "            # embedded_equation_new = embedded_equation_new/np.linalg.norm(embedded_equation_new)\n",
    "            set_eq_x.append(embedded_equation_new)\n",
    "            set_y.append(y)"
   ]
  },
  {
   "cell_type": "markdown",
   "metadata": {},
   "source": [
    "The function below tests the model on a given equation for a set of x values."
   ]
  },
  {
   "cell_type": "code",
   "execution_count": 7,
   "metadata": {},
   "outputs": [],
   "source": [
    "def test(equation_string, equation_encoding, model, x_values, y_actual, y_pred, size):\n",
    "    model.eval()\n",
    "\n",
    "    equation_encoded_numpy = np.array(equation_encoding)\n",
    "    \n",
    "    for count in range(size):\n",
    "        embedded_equation_new = np.copy(equation_encoded_numpy)\n",
    "        x = random.random() * 20 - 10 # gives an x-value between -10 and 10\n",
    "        y = eval(equation_string)\n",
    "        embedded_equation_new[9] = x\n",
    "        x_values.append(x)\n",
    "        y_actual.append(y)\n",
    "\n",
    "        with torch.no_grad():\n",
    "            embedded_equation_new = torch.tensor(embedded_equation_new, dtype=float).float()\n",
    "            output = model(embedded_equation_new) # shape [1,1,1]\n",
    "            y_pred.append(output.item())"
   ]
  },
  {
   "cell_type": "markdown",
   "metadata": {},
   "source": [
    "The function below generates the data set and saves it as a file.  It is configured to create 400 equations with 2000 data points each."
   ]
  },
  {
   "cell_type": "code",
   "execution_count": 8,
   "metadata": {},
   "outputs": [],
   "source": [
    "def main_makedataset():\n",
    "    print('Dataset Generation Started')\n",
    "    equation_count = 400\n",
    "    data_point_per_equation = 2000\n",
    "\n",
    "    equation_string_encoding_list = generate_equation_list(equation_count)\n",
    "\n",
    "    training_set_eq_x = []\n",
    "    training_set_y = []\n",
    "    test_set_eq_x = []\n",
    "    test_set_y = []\n",
    "\n",
    "    build_set(equation_string_encoding_list, training_set_eq_x, training_set_y, data_point_per_equation)\n",
    "    build_set(equation_string_encoding_list, test_set_eq_x, test_set_y, data_point_per_equation)\n",
    "\n",
    "    training_set_eq_x = torch.tensor(training_set_eq_x, dtype=float).float()\n",
    "    training_set_y = torch.tensor(training_set_y, dtype=float).float().unsqueeze(1).unsqueeze(1)\n",
    "\n",
    "    dataset_train = shared_task_ds(training_set_eq_x,training_set_y)\n",
    "    \n",
    "    with open('training_set','wb') as training_file:\n",
    "        torch.save(dataset_train, training_file)\n",
    "\n",
    "    print('Dataset Generation Complete')"
   ]
  },
  {
   "cell_type": "markdown",
   "metadata": {},
   "source": [
    "The function below trains the model using an Adam optimizer with a learning rate of 0.01 for batches of size 16 and a model with a width of 100 nodes across 2 epochs.  The model is tested on two equations in the data set and one that is not."
   ]
  },
  {
   "cell_type": "code",
   "execution_count": 13,
   "metadata": {},
   "outputs": [],
   "source": [
    "def main_learn():\n",
    "\n",
    "    print('Training Run Started')\n",
    "    \n",
    "    # Hyperparameters\n",
    "    learning_rate = 0.01\n",
    "    epochs = 2\n",
    "    batch_size = 16\n",
    "    hidden_nodes = 100\n",
    "\n",
    "    kwargs = {'batch_size': batch_size}\n",
    "\n",
    "    filename = 'training_set'\n",
    "    infile = open(filename,'rb')\n",
    "    dataset1 = torch.load(infile)\n",
    "\n",
    "    train_loader = torch.utils.data.DataLoader(dataset1, **kwargs, drop_last=True, shuffle=True)\n",
    "    device = 'cpu'\n",
    "\n",
    "    model = Net(hidden_nodes).to(device)\n",
    "    optimizer = optim.Adam(model.parameters(), lr=learning_rate)\n",
    "\n",
    "    losses = []\n",
    "    for epoch in range(1, epochs + 1):\n",
    "        train(model, device, train_loader, optimizer, epoch, losses)\n",
    "\n",
    "    x_values1 = []\n",
    "    x_values2 = []\n",
    "    x_values3 = []\n",
    "\n",
    "    y_actual1 = []\n",
    "    y_actual2 = []\n",
    "    y_actual3 = []\n",
    "\n",
    "    y_pred1 = []\n",
    "    y_pred2 = []\n",
    "    y_pred3 = []\n",
    "\n",
    "    size = 60\n",
    "\n",
    "    equation_string = '-8*(x+1)*(x-4)+9'\n",
    "    equation_encoding = [1, 8, 1, 2, 1, 1, 4, 2, 9, -1]\n",
    "    test(equation_string, equation_encoding, model, x_values1, y_actual1, y_pred1, size)\n",
    "\n",
    "    \n",
    "    equation_string = '+5*(x-4)+9'\n",
    "    equation_encoding = [2, 5, 2, 0, 0, 1, 4, 2, 9, -1]\n",
    "    test(equation_string, equation_encoding, model, x_values2, y_actual2, y_pred2, size)\n",
    "\n",
    "    # Test on equation not in training set\n",
    "    equation_string = '+6*(x+9)*(x+5)-3'\n",
    "    equation_encoding = [2, 6, 1, 2, 9, 2, 5, 1, 3, -1]\n",
    "    test(equation_string, equation_encoding, model, x_values3, y_actual3, y_pred3, size)\n",
    "    \n",
    "    fig, (ax1, ax2, ax3) = plt.subplots(1, 3)\n",
    "    fig.suptitle('Test Equations')\n",
    "    ax1.set_title('In Set')\n",
    "    ax2.set_title('In Set')\n",
    "    ax3.set_title('Out of Set')\n",
    "    ax1.scatter(x_values1, y_actual1)\n",
    "    ax1.scatter(x_values1, y_pred1)\n",
    "    ax2.scatter(x_values2, y_actual2)\n",
    "    ax2.scatter(x_values2, y_pred2)\n",
    "    ax3.scatter(x_values3, y_actual3)\n",
    "    ax3.scatter(x_values3, y_pred3)\n",
    "    ax1.legend(['Actual','Predicted'])\n",
    "    ax2.legend(['Actual','Predicted'])\n",
    "    ax3.legend(['Actual','Predicted'])\n",
    "    # experiment.log_figure(figure=plt)\n",
    "    plt.show()\n",
    "    plt.close()\n",
    "\n",
    "    print('Training Run Complete')"
   ]
  },
  {
   "cell_type": "markdown",
   "metadata": {},
   "source": [
    "As shown below, the model is able to predict y values when x-values are embedded with the task (i.e. the equation encoding) even when the model has never seen an equation."
   ]
  },
  {
   "cell_type": "code",
   "execution_count": 14,
   "metadata": {},
   "outputs": [
    {
     "name": "stdout",
     "output_type": "stream",
     "text": [
      "Dataset Generation Started\n",
      "Dataset Generation Complete\n",
      "Training Run Started\n"
     ]
    },
    {
     "data": {
      "image/png": "[encoded data removed]",
      "text/plain": [
       "<Figure size 432x288 with 3 Axes>"
      ]
     },
     "metadata": {
      "needs_background": "light"
     },
     "output_type": "display_data"
    },
    {
     "name": "stdout",
     "output_type": "stream",
     "text": [
      "Training Run Complete\n"
     ]
    }
   ],
   "source": [
    "main_makedataset()\n",
    "main_learn()"
   ]
  }
 ],
 "metadata": {
  "interpreter": {
   "hash": "86a3c23795c3b0a78c76a77288456703e04a6e8a72870ac4dab43e1620c33576"
  },
  "kernelspec": {
   "display_name": "Python 3.9.5 64-bit ('analytics1': conda)",
   "language": "python",
   "name": "python3"
  },
  "language_info": {
   "codemirror_mode": {
    "name": "ipython",
    "version": 3
   },
   "file_extension": ".py",
   "mimetype": "text/x-python",
   "name": "python",
   "nbconvert_exporter": "python",
   "pygments_lexer": "ipython3",
   "version": "3.9.5"
  },
  "orig_nbformat": 4
 },
 "nbformat": 4,
 "nbformat_minor": 2
}
